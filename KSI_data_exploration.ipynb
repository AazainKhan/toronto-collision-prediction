{
 "cells": [
  {
   "cell_type": "markdown",
   "metadata": {},
   "source": [
    "# Data Exploration"
   ]
  },
  {
   "cell_type": "code",
   "execution_count": null,
   "metadata": {},
   "outputs": [],
   "source": [
    "import pandas as pd\n",
    "import numpy as np\n",
    "import matplotlib.pyplot as plt\n",
    "import seaborn as sns"
   ]
  },
  {
   "cell_type": "code",
   "execution_count": null,
   "metadata": {},
   "outputs": [],
   "source": [
    "df = pd.read_csv('KSI.csv')"
   ]
  },
  {
   "cell_type": "code",
   "execution_count": null,
   "metadata": {},
   "outputs": [],
   "source": [
    "print(df.shape)"
   ]
  },
  {
   "cell_type": "code",
   "execution_count": null,
   "metadata": {},
   "outputs": [],
   "source": [
    "print(df.head())"
   ]
  },
  {
   "cell_type": "code",
   "execution_count": null,
   "metadata": {},
   "outputs": [],
   "source": [
    "df.info()"
   ]
  },
  {
   "cell_type": "code",
   "execution_count": null,
   "metadata": {},
   "outputs": [],
   "source": [
    "print(df.describe()) "
   ]
  },
  {
   "cell_type": "code",
   "execution_count": null,
   "metadata": {},
   "outputs": [],
   "source": [
    "print(df.isnull().sum())"
   ]
  },
  {
   "cell_type": "code",
   "execution_count": null,
   "metadata": {},
   "outputs": [],
   "source": [
    "#Plot histogram\n",
    "df.hist(bins=50,figsize=(20,20))\n",
    "plt.show()\n",
    "\n",
    "#Plot correlation matrix\n",
    "plt.figure(figsize=(20,20))\n",
    "sns.heatmap(df.corr(),annot=True,cmap='RdYlGn')\n",
    "plt.show()"
   ]
  },
  {
   "cell_type": "code",
   "execution_count": null,
   "metadata": {},
   "outputs": [],
   "source": [
    "# Double check if we need to use these columns to train the model based on the requirement\n",
    "bool_cols = [df.columns[col] for col in range(38,51)]\n",
    "\n",
    "#Fill missing values with 'No' in boolean columns\n",
    "df[bool_cols] = df[bool_cols].fillna('No')"
   ]
  },
  {
   "cell_type": "code",
   "execution_count": null,
   "metadata": {},
   "outputs": [],
   "source": [
    "# Drop columns having more than 80% missing values\n",
    "missing_percentages = (df.isnull().sum() / len(df)) * 100\n",
    "columns_to_drop = missing_percentages[missing_percentages > 80].index\n",
    "df = df.drop(columns=columns_to_drop)"
   ]
  },
  {
   "cell_type": "code",
   "execution_count": null,
   "metadata": {},
   "outputs": [],
   "source": [
    "# From correlation matrix, we can see that 'X' and 'LONGITUDE', 'Y' and 'LATITUDE' are highly correlated. So, we can drop one of them.\n",
    "columns_to_drop = ['X', 'Y']\n",
    "df = df.drop(columns=columns_to_drop)"
   ]
  },
  {
   "cell_type": "code",
   "execution_count": null,
   "metadata": {},
   "outputs": [],
   "source": [
    "# Drop columns which may not be useful for analysis\n",
    "columns_to_drop = ['ObjectId', 'INDEX_', 'ACCNUM', 'INITDIR', 'STREET1', 'STREET2', 'DISTRICT', 'WARDNUM', 'DIVISION', 'HOOD_158', 'HOOD_140', 'INJURY']\n",
    "# 'INJURY' feature which might be dropped depends on the accuracy score of model\n",
    "df = df.drop(columns=columns_to_drop)"
   ]
  },
  {
   "cell_type": "code",
   "execution_count": null,
   "metadata": {},
   "outputs": [],
   "source": [
    "# In 'NEIGHBOURHOOD_140', the values contain number inside brackets. We can remove the number inside brackets and remove space before and after the string.\n",
    "df['NEIGHBOURHOOD_140'] = df['NEIGHBOURHOOD_140'].str.replace(r\"\\(.*\\)\",\"\").str.strip()\n",
    "df['NEIGHBOURHOOD_140']"
   ]
  },
  {
   "cell_type": "code",
   "execution_count": null,
   "metadata": {},
   "outputs": [],
   "source": [
    "# Convert 'property' to 'non fatal'\n",
    "df['ACCLASS'] = df['ACCLASS'].str.replace(\"Property Damage Only\",\"Non-Fatal\")"
   ]
  },
  {
   "cell_type": "markdown",
   "metadata": {},
   "source": [
    "## Latest Change - Pham"
   ]
  },
  {
   "cell_type": "code",
   "execution_count": null,
   "metadata": {},
   "outputs": [],
   "source": [
    "#categorical columns which have <3% missing values, we can drop them. The number is not remarkable, it won't affect the accuracy, it is just below 3%\n",
    "df.isnull().sum()\n",
    "cat_cols =  df.select_dtypes(include='object')\n",
    "missing_percentages = cat_cols.isnull().sum()/len(df) * 100\n",
    "cat_col_val_drop = missing_percentages[missing_percentages <= 3].index\n",
    "cat_col_val_drop\n",
    "df = df.dropna(subset=cat_col_val_drop)\n",
    "df.isnull().sum()"
   ]
  },
  {
   "cell_type": "code",
   "execution_count": null,
   "metadata": {},
   "outputs": [],
   "source": [
    "# Convert 'TIME' to 'AM_PM', we can use this feature to check the percentage of accidents happened in day and night.\n",
    "#! Note: This feature is only used for data exploration, it won't be used for training the model.\n",
    "df['AM_PM'] = df['TIME'].apply(lambda x: 'AM' if x < 1200 else 'PM')"
   ]
  },
  {
   "cell_type": "code",
   "execution_count": null,
   "metadata": {},
   "outputs": [],
   "source": [
    "# Extract 'DATE' to 'YEAR', 'MONTH', 'DAY', 'DAY_OF_WEEK'"
   ]
  },
  {
   "cell_type": "code",
   "execution_count": null,
   "metadata": {},
   "outputs": [],
   "source": [
    "#null values to Nan\n",
    "df = df.fillna(value=np.nan)"
   ]
  }
 ],
 "metadata": {
  "kernelspec": {
   "display_name": "Python 3",
   "language": "python",
   "name": "python3"
  },
  "language_info": {
   "codemirror_mode": {
    "name": "ipython",
    "version": 3
   },
   "file_extension": ".py",
   "mimetype": "text/x-python",
   "name": "python",
   "nbconvert_exporter": "python",
   "pygments_lexer": "ipython3",
   "version": "3.11.4"
  }
 },
 "nbformat": 4,
 "nbformat_minor": 2
}
