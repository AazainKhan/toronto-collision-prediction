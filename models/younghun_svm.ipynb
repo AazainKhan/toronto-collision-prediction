{
 "cells": [
  {
   "cell_type": "code",
   "execution_count": 20,
   "metadata": {},
   "outputs": [],
   "source": [
    "# Import libraries\n",
    "from joblib import dump\n",
    "import scikitplot as skplt\n",
    "from sklearn.model_selection import cross_val_score, KFold\n",
    "from sklearn.metrics import accuracy_score, classification_report, ConfusionMatrixDisplay, confusion_matrix, roc_curve, auc\n",
    "from imblearn.over_sampling import SMOTE\n",
    "from sklearn.model_selection import StratifiedShuffleSplit\n",
    "from sklearn.compose import ColumnTransformer\n",
    "from sklearn.impute import SimpleImputer\n",
    "from sklearn.pipeline import Pipeline\n",
    "from sklearn.svm import SVC\n",
    "from sklearn.preprocessing import StandardScaler, OneHotEncoder, LabelEncoder\n",
    "import matplotlib.pyplot as plt\n",
    "import numpy as np\n",
    "import pandas as pd\n",
    "from sklearn.exceptions import ConvergenceWarning\n",
    "import warnings\n",
    "warnings.filterwarnings(\"ignore\", category=ConvergenceWarning)"
   ]
  },
  {
   "cell_type": "code",
   "execution_count": 21,
   "metadata": {},
   "outputs": [],
   "source": [
    "\n",
    "# Load the dataset\n",
    "df_official = pd.read_csv('cleaned_data_KSI.csv')"
   ]
  },
  {
   "cell_type": "code",
   "execution_count": 22,
   "metadata": {},
   "outputs": [
    {
     "name": "stdout",
     "output_type": "stream",
     "text": [
      "<class 'pandas.core.frame.DataFrame'>\n",
      "RangeIndex: 17522 entries, 0 to 17521\n",
      "Data columns (total 27 columns):\n",
      " #   Column         Non-Null Count  Dtype  \n",
      "---  ------         --------------  -----  \n",
      " 0   LATITUDE       17522 non-null  float64\n",
      " 1   LONGITUDE      17522 non-null  float64\n",
      " 2   ACCLOC         12514 non-null  object \n",
      " 3   VISIBILITY     17522 non-null  object \n",
      " 4   LIGHT          17522 non-null  object \n",
      " 5   RDSFCOND       17522 non-null  object \n",
      " 6   ACCLASS        17522 non-null  object \n",
      " 7   IMPACTYPE      17522 non-null  object \n",
      " 8   INVTYPE        17522 non-null  object \n",
      " 9   INVAGE         17522 non-null  object \n",
      " 10  INJURY         16001 non-null  object \n",
      " 11  DRIVCOND       8935 non-null   object \n",
      " 12  PEDESTRIAN     17522 non-null  int64  \n",
      " 13  CYCLIST        17522 non-null  int64  \n",
      " 14  AUTOMOBILE     17522 non-null  int64  \n",
      " 15  MOTORCYCLE     17522 non-null  int64  \n",
      " 16  TRUCK          17522 non-null  int64  \n",
      " 17  TRSN_CITY_VEH  17522 non-null  int64  \n",
      " 18  EMERG_VEH      17522 non-null  int64  \n",
      " 19  PASSENGER      6576 non-null   object \n",
      " 20  SPEEDING       17522 non-null  int64  \n",
      " 21  AG_DRIV        17522 non-null  int64  \n",
      " 22  REDLIGHT       17522 non-null  int64  \n",
      " 23  ALCOHOL        17522 non-null  int64  \n",
      " 24  DISABILITY     17522 non-null  int64  \n",
      " 25  HOOD_158       17522 non-null  float64\n",
      " 26  HOOD_140       17522 non-null  float64\n",
      "dtypes: float64(4), int64(12), object(11)\n",
      "memory usage: 3.6+ MB\n",
      "None\n"
     ]
    }
   ],
   "source": [
    "\n",
    "# Display dataset information\n",
    "print(df_official.info())"
   ]
  },
  {
   "cell_type": "code",
   "execution_count": 23,
   "metadata": {},
   "outputs": [
    {
     "name": "stdout",
     "output_type": "stream",
     "text": [
      "                 count       mean        std        min        25%        50%  \\\n",
      "LATITUDE       17522.0  43.710888   0.055820  43.589678  43.662398  43.703255   \n",
      "LONGITUDE      17522.0 -79.395151   0.104214 -79.638390 -79.468326 -79.396390   \n",
      "PEDESTRIAN     17522.0   0.410798   0.491993   0.000000   0.000000   0.000000   \n",
      "CYCLIST        17522.0   0.108264   0.310722   0.000000   0.000000   0.000000   \n",
      "AUTOMOBILE     17522.0   0.908972   0.287658   0.000000   1.000000   1.000000   \n",
      "MOTORCYCLE     17522.0   0.087205   0.282143   0.000000   0.000000   0.000000   \n",
      "TRUCK          17522.0   0.061123   0.239563   0.000000   0.000000   0.000000   \n",
      "TRSN_CITY_VEH  17522.0   0.062493   0.242055   0.000000   0.000000   0.000000   \n",
      "EMERG_VEH      17522.0   0.002454   0.049479   0.000000   0.000000   0.000000   \n",
      "SPEEDING       17522.0   0.138226   0.345147   0.000000   0.000000   0.000000   \n",
      "AG_DRIV        17522.0   0.520831   0.499580   0.000000   0.000000   1.000000   \n",
      "REDLIGHT       17522.0   0.086177   0.280634   0.000000   0.000000   0.000000   \n",
      "ALCOHOL        17522.0   0.041947   0.200474   0.000000   0.000000   0.000000   \n",
      "DISABILITY     17522.0   0.026823   0.161572   0.000000   0.000000   0.000000   \n",
      "HOOD_158       17522.0  92.494236  52.271103   1.000000  47.000000  95.000000   \n",
      "HOOD_140       17522.0  74.097078  41.378209   1.000000  38.000000  77.000000   \n",
      "\n",
      "                      75%         max  \n",
      "LATITUDE        43.756457   43.855197  \n",
      "LONGITUDE      -79.316562  -79.122974  \n",
      "PEDESTRIAN       1.000000    1.000000  \n",
      "CYCLIST          0.000000    1.000000  \n",
      "AUTOMOBILE       1.000000    1.000000  \n",
      "MOTORCYCLE       0.000000    1.000000  \n",
      "TRUCK            0.000000    1.000000  \n",
      "TRSN_CITY_VEH    0.000000    1.000000  \n",
      "EMERG_VEH        0.000000    1.000000  \n",
      "SPEEDING         0.000000    1.000000  \n",
      "AG_DRIV          1.000000    1.000000  \n",
      "REDLIGHT         0.000000    1.000000  \n",
      "ALCOHOL          0.000000    1.000000  \n",
      "DISABILITY       0.000000    1.000000  \n",
      "HOOD_158       139.000000  174.000000  \n",
      "HOOD_140       112.000000  140.000000  \n"
     ]
    }
   ],
   "source": [
    "\n",
    "# Display dataset statistics\n",
    "print(df_official.describe().T)"
   ]
  },
  {
   "cell_type": "code",
   "execution_count": 24,
   "metadata": {},
   "outputs": [],
   "source": [
    "\n",
    "# Separate features and target variable\n",
    "x_group3 = df_official.drop(columns=['ACCLASS'], axis=1)\n",
    "y_group3 = df_official['ACCLASS']"
   ]
  },
  {
   "cell_type": "code",
   "execution_count": 25,
   "metadata": {},
   "outputs": [],
   "source": [
    "\n",
    "# Split the dataset into training and testing sets\n",
    "sss = StratifiedShuffleSplit(n_splits=1, test_size=0.3, random_state=42)\n",
    "for train_index, test_index in sss.split(x_group3, y_group3):\n",
    "    x_train, x_test = x_group3.loc[train_index], x_group3.loc[test_index]\n",
    "    y_train, y_test = y_group3.loc[train_index], y_group3.loc[test_index]"
   ]
  },
  {
   "cell_type": "code",
   "execution_count": 26,
   "metadata": {},
   "outputs": [
    {
     "name": "stdout",
     "output_type": "stream",
     "text": [
      "Before using SMOTE\n",
      "Non-Fatal Injury    10564\n",
      "Fatal                1701\n",
      "Name: ACCLASS, dtype: int64\n"
     ]
    }
   ],
   "source": [
    "\n",
    "# Print class distribution before using SMOTE\n",
    "print(\"Before using SMOTE\")\n",
    "print(y_train.value_counts())"
   ]
  },
  {
   "cell_type": "code",
   "execution_count": 27,
   "metadata": {},
   "outputs": [
    {
     "name": "stdout",
     "output_type": "stream",
     "text": [
      "After using SMOTE\n",
      "Fatal               10564\n",
      "Non-Fatal Injury    10564\n",
      "Name: ACCLASS, dtype: int64\n"
     ]
    }
   ],
   "source": [
    "\n",
    "# Preprocessing pipelines for numerical and categorical features\n",
    "numerical_cols = x_train.select_dtypes(include=np.number).columns\n",
    "cat_cols = x_train.select_dtypes(include='object').columns\n",
    "\n",
    "num_pipeline = Pipeline([\n",
    "    ('imputer', SimpleImputer(strategy='median')),\n",
    "    ('std_scaler', StandardScaler())\n",
    "])\n",
    "\n",
    "cat_pipeline = Pipeline([\n",
    "    ('imputer', SimpleImputer(strategy='most_frequent')),\n",
    "    ('one_hot', OneHotEncoder(handle_unknown='ignore'))\n",
    "])\n",
    "\n",
    "preprocessor = ColumnTransformer([\n",
    "    ('num', num_pipeline, numerical_cols),\n",
    "    ('cat', cat_pipeline, cat_cols)\n",
    "])\n",
    "\n",
    "svm_pipeline = Pipeline([\n",
    "    ('preprocessor', preprocessor),\n",
    "])\n",
    "\n",
    "# Transform training data and apply SMOTE\n",
    "x_train_prepared = svm_pipeline.fit_transform(x_train)\n",
    "x_train_prepared, y_train = SMOTE(\n",
    "    random_state=42).fit_resample(x_train_prepared, y_train)\n",
    "\n",
    "# Print class distribution after using SMOTE\n",
    "print(\"After using SMOTE\")\n",
    "print(y_train.value_counts())"
   ]
  },
  {
   "cell_type": "code",
   "execution_count": 28,
   "metadata": {},
   "outputs": [
    {
     "name": "stdout",
     "output_type": "stream",
     "text": [
      "Cross validation scores for 10 folds:  [0.89351633 0.8902035  0.89162328 0.89919546 0.88405111 0.89966872\n",
      " 0.90250828 0.90014198 0.9000947  0.90246212]\n",
      "Mean cross validation score:  0.8963465478853848\n"
     ]
    }
   ],
   "source": [
    "\n",
    "# Train SVM model\n",
    "svm_model = SVC(random_state=42, probability=True)\n",
    "svm_model.fit(x_train_prepared, y_train)\n",
    "\n",
    "# Evaluate the model\n",
    "crossvalscore = KFold(n_splits=10, random_state=42, shuffle=True)\n",
    "scores = cross_val_score(svm_model, x_train_prepared,\n",
    "                         y_train, cv=crossvalscore, scoring='accuracy')\n",
    "print(\"Cross validation scores for 10 folds: \", scores)\n",
    "print(\"Mean cross validation score: \", scores.mean())"
   ]
  },
  {
   "cell_type": "code",
   "execution_count": 29,
   "metadata": {},
   "outputs": [
    {
     "name": "stdout",
     "output_type": "stream",
     "text": [
      "Accuracy score on training data:  0.9129591063990913\n"
     ]
    }
   ],
   "source": [
    "\n",
    "# Make predictions on training data\n",
    "y_pred_train = svm_model.predict(x_train_prepared)\n",
    "print(\"Accuracy score on training data: \",\n",
    "      accuracy_score(y_train, y_pred_train))"
   ]
  },
  {
   "cell_type": "code",
   "execution_count": 30,
   "metadata": {},
   "outputs": [
    {
     "name": "stdout",
     "output_type": "stream",
     "text": [
      "Accuracy score on testing data:  0.848773064485448\n"
     ]
    }
   ],
   "source": [
    "\n",
    "# Make predictions on testing data\n",
    "x_test_transformed = svm_pipeline.transform(x_test)\n",
    "y_pred_test = svm_model.predict(x_test_transformed)\n",
    "print(\"Accuracy score on testing data: \", accuracy_score(y_test, y_pred_test))"
   ]
  },
  {
   "cell_type": "code",
   "execution_count": 32,
   "metadata": {},
   "outputs": [
    {
     "data": {
      "image/png": "[encoded data removed]",
      "text/plain": [
       "<Figure size 640x480 with 1 Axes>"
      ]
     },
     "metadata": {},
     "output_type": "display_data"
    }
   ],
   "source": [
    "\n",
    "y_probas = svm_model.predict_proba(x_test_transformed)\n",
    "fpr, tpr, _ = roc_curve(y_test, y_probas[:, 1], pos_label='Non-Fatal Injury')\n",
    "roc_auc = auc(fpr, tpr)\n",
    "plt.figure()\n",
    "plt.plot(fpr, tpr, color='darkorange', lw=2,\n",
    "         label='ROC curve (area = %0.2f)' % roc_auc)\n",
    "plt.plot([0, 1], [0, 1], color='navy', lw=2, linestyle='--')\n",
    "plt.xlim([0.0, 1.0])\n",
    "plt.ylim([0.0, 1.05])\n",
    "plt.xlabel('False Positive Rate')\n",
    "plt.ylabel('True Positive Rate')\n",
    "plt.title('ROC Curve for SVM')\n",
    "plt.legend(loc=\"lower right\")\n",
    "plt.show()"
   ]
  },
  {
   "cell_type": "code",
   "execution_count": 33,
   "metadata": {},
   "outputs": [
    {
     "name": "stdout",
     "output_type": "stream",
     "text": [
      "Classification report of SVM model before tuning\n",
      "                  precision    recall  f1-score   support\n",
      "\n",
      "           Fatal       0.47      0.69      0.56       729\n",
      "Non-Fatal Injury       0.95      0.88      0.91      4528\n",
      "\n",
      "        accuracy                           0.85      5257\n",
      "       macro avg       0.71      0.78      0.73      5257\n",
      "    weighted avg       0.88      0.85      0.86      5257\n",
      "\n"
     ]
    }
   ],
   "source": [
    "\n",
    "# Print classification report and confusion matrix\n",
    "report = classification_report(y_test, y_pred_test)\n",
    "print(\"Classification report of SVM model before tuning\")\n",
    "print(report)"
   ]
  },
  {
   "cell_type": "code",
   "execution_count": 34,
   "metadata": {},
   "outputs": [
    {
     "data": {
      "image/png": "[encoded data removed]",
      "text/plain": [
       "<Figure size 640x480 with 2 Axes>"
      ]
     },
     "metadata": {},
     "output_type": "display_data"
    }
   ],
   "source": [
    "\n",
    "cfs_matrix = confusion_matrix(y_test, y_pred_test)\n",
    "display = ConfusionMatrixDisplay(cfs_matrix)\n",
    "display.plot()\n",
    "plt.title(\"Confusion Matrix before tuning SVM model\")\n",
    "plt.show()"
   ]
  },
  {
   "cell_type": "code",
   "execution_count": 35,
   "metadata": {},
   "outputs": [
    {
     "data": {
      "text/plain": [
       "['./deployment/svm_pipeline.pkl']"
      ]
     },
     "execution_count": 35,
     "metadata": {},
     "output_type": "execute_result"
    }
   ],
   "source": [
    "# Save the trained model and pipeline\n",
    "dump(svm_model, '../deployment/svm_model.pkl')\n",
    "dump(svm_pipeline, '../deployment/svm_pipeline.pkl')"
   ]
  }
 ],
 "metadata": {
  "kernelspec": {
   "display_name": "Python 3",
   "language": "python",
   "name": "python3"
  },
  "language_info": {
   "codemirror_mode": {
    "name": "ipython",
    "version": 3
   },
   "file_extension": ".py",
   "mimetype": "text/x-python",
   "name": "python",
   "nbconvert_exporter": "python",
   "pygments_lexer": "ipython3",
   "version": "3.11.2"
  }
 },
 "nbformat": 4,
 "nbformat_minor": 2
}
